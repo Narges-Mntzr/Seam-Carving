{
  "cells": [
    {
      "cell_type": "code",
      "execution_count": 1,
      "metadata": {
        "id": "gcE_iVs8nkVM"
      },
      "outputs": [],
      "source": [
        "import sys\n",
        "\n",
        "import numpy as np\n",
        "from imageio import imread, imwrite\n",
        "from scipy.ndimage import convolve\n",
        "import imageio.v2 as imageio\n",
        "import cv2\n",
        "\n",
        "# tqdm is not strictly necessary, but it gives us a pretty progress bar\n",
        "# to visualize progress.\n",
        "from tqdm import trange"
      ]
    },
    {
      "cell_type": "code",
      "execution_count": 2,
      "metadata": {
        "id": "QbTerBdxog6k"
      },
      "outputs": [],
      "source": [
        "#my varaibles\n",
        "inputAdr = \"./SamplesDataset/\"\n",
        "picName = \"Baby\"\n",
        "outputAdr = \"./Output/\""
      ]
    },
    {
      "cell_type": "code",
      "execution_count": 3,
      "metadata": {
        "id": "OdfwRfy_qJOH"
      },
      "outputs": [],
      "source": [
        "def calc_gmap(img):\n",
        "  gray = cv2.cvtColor(img, cv2.COLOR_BGR2GRAY)\n",
        "\n",
        "  gradient_x = cv2.Sobel(gray, cv2.CV_64F, 1, 0, ksize = 3)\n",
        "  gradient_y = cv2.Sobel(gray, cv2.CV_64F, 0, 1, ksize = 3)\n",
        "\n",
        "  gradient_magnitude = np.sqrt(gradient_x**2 + gradient_y**2)\n",
        "\n",
        "  gradient_normalized = cv2.normalize(gradient_magnitude, None, 0, 255, cv2.NORM_MINMAX, cv2.CV_8U)\n",
        "\n",
        "  return gradient_normalized"
      ]
    },
    {
      "cell_type": "code",
      "execution_count": 4,
      "metadata": {
        "id": "qeyOIkJfrejG"
      },
      "outputs": [],
      "source": [
        "def calc_mask(img1, img2):\n",
        "  A = img1 + img2\n",
        "  B = abs(img1 - img2)\n",
        "\n",
        "  threshA, _ = cv2.threshold(A, 0, 255, cv2.THRESH_OTSU)\n",
        "  threshB, _ = cv2.threshold(B, 0, 255, cv2.THRESH_OTSU)\n",
        "\n",
        "  return (A>threshA) & (B<threshB)"
      ]
    },
    {
      "cell_type": "code",
      "execution_count": 5,
      "metadata": {
        "id": "S6jGenE5nsu_"
      },
      "outputs": [],
      "source": [
        "#Energy map\n",
        "def calc_energy(img, SM, DM):\n",
        "\n",
        "    GM = calc_gmap(img)\n",
        "    MaskSD = calc_mask(SM,DM)\n",
        "    MaskSG = calc_mask(SM,GM)\n",
        "    MaskSDG = MaskSD * MaskSG\n",
        "    MaskSDG = MaskSDG.astype(np.uint8)\n",
        "\n",
        "    SMimproved = MaskSDG | SM\n",
        "\n",
        "    energy_map = (GM/5)*2 + (DM/5)*2 + (SMimproved/5)\n",
        "\n",
        "    r, c, _ = img.shape\n",
        "    for i in range(r):\n",
        "      for j in range(c):\n",
        "        if (j% 2==0):\n",
        "          energy_map[i,j]/=3\n",
        "\n",
        "    energy_mapInt8 = energy_map.astype(np.uint8)\n",
        "    imwrite(f\"{outputAdr}/{picName}_EMapComplete.png\", energy_mapInt8)\n",
        "    return energy_map"
      ]
    },
    {
      "cell_type": "code",
      "execution_count": 6,
      "metadata": {
        "id": "uPy5TP_Dn2UT"
      },
      "outputs": [],
      "source": [
        "#Finding the seam with least energy\n",
        "def minimum_seam(img, SM, DM):\n",
        "    r, c, _ = img.shape\n",
        "    energy_map = calc_energy(img, SM, DM)\n",
        "\n",
        "    M = energy_map.copy()\n",
        "    M = M.astype(np.uint32)\n",
        "    backtrack = np.zeros_like(M, dtype=int)\n",
        "\n",
        "    for i in range(1, r):\n",
        "        for j in range(0, c):\n",
        "            # Handle the left edge of the image, to ensure we don't index -1\n",
        "            if j == 0:\n",
        "                idx = np.argmin(M[i - 1, j:j + 2])\n",
        "                backtrack[i, j] = idx + j\n",
        "                min_energy = M[i - 1, idx + j]\n",
        "            else:\n",
        "                idx = np.argmin(M[i - 1, j - 1:j + 2])\n",
        "                backtrack[i, j] = idx + j - 1\n",
        "                min_energy = M[i - 1, idx + j - 1]\n",
        "\n",
        "            M[i, j] += min_energy\n",
        "\n",
        "    return M, backtrack"
      ]
    },
    {
      "cell_type": "code",
      "execution_count": 7,
      "metadata": {
        "id": "vOeUY9h9n_yR"
      },
      "outputs": [],
      "source": [
        "#Deleting the pixels from the seam with the least energy\n",
        "def carve_column(img, SM, DM):\n",
        "    r, c, _ = img.shape\n",
        "\n",
        "    M, backtrack = minimum_seam(img, SM, DM)\n",
        "\n",
        "    # Create a (r, c) matrix filled with the value True\n",
        "    # We'll be removing all pixels from the image which\n",
        "    # have False later\n",
        "    mask = np.ones((r, c), dtype=bool)\n",
        "\n",
        "    # Find the position of the smallest element in the\n",
        "    # last row of M\n",
        "    j = np.argmin(M[-1])\n",
        "\n",
        "    for i in reversed(range(r)):\n",
        "        # Mark the pixels for deletion\n",
        "        mask[i, j] = False\n",
        "        j = backtrack[i, j]\n",
        "\n",
        "    # Since the image has 3 channels, we convert our\n",
        "    # mask to 3D\n",
        "    mask3D = np.stack([mask] * 3, axis=2)\n",
        "\n",
        "    # Delete all the pixels marked False in the mask,\n",
        "    # and resize it to the new image dimensions\n",
        "    img = img[mask3D].reshape((r, c - 1, 3))\n",
        "    SM = SM[mask].reshape((r, c - 1))\n",
        "    DM = DM[mask].reshape((r, c - 1))\n",
        "\n",
        "    return img, SM, DM"
      ]
    },
    {
      "cell_type": "code",
      "execution_count": 8,
      "metadata": {
        "id": "vrZbXCWLn7EN"
      },
      "outputs": [],
      "source": [
        "#Repeat for every column\n",
        "def crop_c(img, SM, DM, scale_c):\n",
        "    r, c, _ = img.shape\n",
        "    new_c = int(scale_c * c)\n",
        "\n",
        "    for i in trange(c - new_c): # use range if you don't want to use tqdm\n",
        "        img, SM, DM = carve_column(img, SM, DM)\n",
        "\n",
        "    return img"
      ]
    },
    {
      "cell_type": "code",
      "execution_count": 11,
      "metadata": {
        "colab": {
          "base_uri": "https://localhost:8080/"
        },
        "id": "mhipuRG7oNB7",
        "outputId": "9d04e287-66d4-46a4-c73b-2a6b0435b7dc"
      },
      "outputs": [
        {
          "name": "stderr",
          "output_type": "stream",
          "text": [
            "  0%|          | 0/207 [00:00<?, ?it/s]"
          ]
        },
        {
          "name": "stderr",
          "output_type": "stream",
          "text": [
            "100%|██████████| 207/207 [01:15<00:00,  2.75it/s]\n"
          ]
        }
      ],
      "source": [
        "def main():\n",
        "    scale = 0.5\n",
        "    in_filename = f\"{inputAdr}{picName}/{picName}.png\"\n",
        "    out_filename = f\"{outputAdr}/{picName}.png\"\n",
        "    SM = imageio.imread(f\"{inputAdr}{picName}/{picName}_SMap.png\")\n",
        "\n",
        "    DM = imageio.imread(f\"{inputAdr}{picName}/{picName}_DMap.png\")\n",
        "    _, DM = cv2.threshold(DM, 0, 255, cv2.THRESH_OTSU)\n",
        "\n",
        "    img = imageio.imread(in_filename)\n",
        "    out = crop_c(img, SM, DM, scale)\n",
        "    imwrite(out_filename, out)\n",
        "\n",
        "if __name__ == '__main__':\n",
        "    main()"
      ]
    },
    {
      "cell_type": "code",
      "execution_count": null,
      "metadata": {
        "id": "Nt6N4RfH0WKi"
      },
      "outputs": [],
      "source": []
    }
  ],
  "metadata": {
    "colab": {
      "provenance": []
    },
    "kernelspec": {
      "display_name": "Python 3",
      "name": "python3"
    },
    "language_info": {
      "codemirror_mode": {
        "name": "ipython",
        "version": 3
      },
      "file_extension": ".py",
      "mimetype": "text/x-python",
      "name": "python",
      "nbconvert_exporter": "python",
      "pygments_lexer": "ipython3",
      "version": "3.10.6"
    }
  },
  "nbformat": 4,
  "nbformat_minor": 0
}
